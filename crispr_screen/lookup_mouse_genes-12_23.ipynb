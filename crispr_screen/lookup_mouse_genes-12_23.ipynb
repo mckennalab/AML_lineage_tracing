{
 "cells": [
  {
   "cell_type": "code",
   "execution_count": 2,
   "id": "c9df7639-aabd-45c6-9a50-c6f8408e57a7",
   "metadata": {},
   "outputs": [],
   "source": [
    "from collections import defaultdict\n"
   ]
  },
  {
   "cell_type": "code",
   "execution_count": 22,
   "id": "05e8d320-662d-44b9-8361-e067d8ebdc3b",
   "metadata": {},
   "outputs": [
    {
     "data": {
      "text/plain": [
       "[['AAATGGCTGTTGATCCCATG', 'CCCAAAATGGCTGTTGATCCCATGGGGTGA'],\n",
       " ['GTTCACCATTAATACCCCCA', 'GCCAGTTCACCATTAATACCCCCAAGGTGG'],\n",
       " ['TCGGGCCGGACTAACATCCG', 'CATCTCGGGCCGGACTAACATCCGTGGATA'],\n",
       " ['TGGGGATGGACAGCCCGACG', 'TGAGTGGGGATGGACAGCCCGACGAGGGTG']]"
      ]
     },
     "execution_count": 22,
     "metadata": {},
     "output_type": "execute_result"
    }
   ],
   "source": [
    "# 11287   Pzp     NM_007376.4     NC_000072.6     128522753       antisense       TTACCTCAATATAAACGACA    GTACTTACCTCAATATAAACGACAGGGAAC  GGG     5       0.707\n",
    "brie = open(\"broadgpp-brie-library-contents.txt\")\n",
    "brie_gene_to_nm = {}\n",
    "brie_gene_to_guides = defaultdict(list)\n",
    "\n",
    "brie_nm_to_gene = {}\n",
    "for line in brie:\n",
    "    sp = line.strip().split(\"\\t\")\n",
    "    gene = sp[1]\n",
    "    nm = sp[2].split(\".\")[0]\n",
    "    guide_list = brie_gene_to_guides[gene]\n",
    "    guide_list.append([sp[6],sp[7]])\n",
    "    brie_gene_to_guides[gene] = guide_list\n",
    "    \n",
    "    if gene in brie_gene_to_nm:\n",
    "        lm = brie_gene_to_nm[gene]\n",
    "        lm.append(nm)\n",
    "        brie_gene_to_nm[gene] = lm\n",
    "        \n",
    "    else:\n",
    "        brie_gene_to_nm[gene] = [nm]\n",
    "\n",
    "    if nm in brie_nm_to_gene:\n",
    "        lm = brie_nm_to_gene[nm]\n",
    "        lm.append(gene)\n",
    "        brie_nm_to_gene[nm] = lm\n",
    "    else:\n",
    "        brie_nm_to_gene[nm] = [gene]\n",
    "        \n",
    "    \n",
    "brie_gene_to_guides[\"Kmt2d\"]"
   ]
  },
  {
   "cell_type": "code",
   "execution_count": 16,
   "id": "0ea41802-7a13-411e-8450-a44f2aa01e29",
   "metadata": {},
   "outputs": [],
   "source": [
    "lookup_file = open(\"121824_FINAL_crisprscreen_genelist.csv\")\n",
    "header = lookup_file.readline()\n",
    "lookups = []\n",
    "for line in lookup_file:\n",
    "    tk = line.strip().split(\",\")\n",
    "    lookups.append(tk[0])"
   ]
  },
  {
   "cell_type": "code",
   "execution_count": 7,
   "id": "208029e4-9fd2-41ef-a19b-dee4074a9717",
   "metadata": {},
   "outputs": [],
   "source": [
    "\n",
    "\n",
    "mk_list = open(\"MRK_List1.rpt\")\n",
    "mrk_map = defaultdict(list)\n",
    "\n",
    "for line in mk_list:\n",
    "    tks = line.strip().split(\"\\t\")\n",
    "    if len(tks) > 11:\n",
    "        known = tks[6]\n",
    "        alts = tks[11].split(\"|\")\n",
    "        alts.append(known)\n",
    "        alts = list(filter(lambda x: x.strip() != \"\", alts))\n",
    "        for alt in alts:\n",
    "            lst = mrk_map[alt]\n",
    "            lst.extend(alts)\n",
    "            mrk_map[alt] = lst\n"
   ]
  },
  {
   "cell_type": "code",
   "execution_count": 15,
   "id": "5bd1ba4d-b616-4a52-9269-db93e45103c7",
   "metadata": {},
   "outputs": [],
   "source": [
    "teichman_mouse = defaultdict(list)\n",
    "tfile = open(\"teichman_mouse_v2_grnas.txt\")\n",
    "header = tfile.readline()\n",
    "\n",
    "for line in tfile:\n",
    "    sp = line.strip().split()\n",
    "    new_list = teichman_mouse[sp[1]]\n",
    "    \n",
    "    new_list.append([sp[0],sp[2]])\n",
    "    teichman_mouse[sp[1]] = new_list\n",
    "        "
   ]
  },
  {
   "cell_type": "code",
   "execution_count": 31,
   "id": "2f1d6d76-f6d7-4478-8429-66ce3737ccc5",
   "metadata": {},
   "outputs": [
    {
     "data": {
      "text/plain": [
       "[]"
      ]
     },
     "execution_count": 31,
     "metadata": {},
     "output_type": "execute_result"
    }
   ],
   "source": [
    "teichman_mouse[\"Rab7b\"]"
   ]
  },
  {
   "cell_type": "code",
   "execution_count": 34,
   "id": "76d1b490-dce4-4fa2-9447-06b307840dad",
   "metadata": {},
   "outputs": [
    {
     "name": "stdout",
     "output_type": "stream",
     "text": [
      "here\n",
      "5\n",
      "5\n",
      "here2\n",
      "here2\n",
      "here2\n",
      "here2\n",
      "here2\n"
     ]
    }
   ],
   "source": [
    "remap = open(\"remapped_mouse_2024_12_23.txt\",\"w\")\n",
    "remap.write(\"set\\tgene\\tremapped_name\\tguide_name\\tremapped_guide\\tother_candidates\\n\")\n",
    "nada = 0\n",
    "genes_processed = {}\n",
    "for lookup in lookups:\n",
    "    if not lookup in genes_processed:\n",
    "        mapped_entry = False\n",
    "        if lookup == \"Rab7b\":\n",
    "            print(\"here\")\n",
    "        if lookup in mrk_map:\n",
    "            new_named = None\n",
    "            for new_name in mrk_map[lookup]:\n",
    "                if new_name in teichman_mouse and mapped_entry == False:\n",
    "                    if lookup == \"Rab7b\":\n",
    "                        print(len(lookup))\n",
    "                    for entry in teichman_mouse[new_name]:\n",
    "                        \n",
    "                        remap.write(\"teichman\\t\" + lookup + \"\\t\" + new_name + \"\\t\" +  entry[0] + \"\\t\" + entry[1] + \"\\t\" + str(mrk_map[lookup]) + \"\\n\")\n",
    "                        mapped_entry = True\n",
    "                        if lookup == \"Rab7b\":\n",
    "                            print(\"here2\")\n",
    "                                \n",
    "        if lookup in brie_gene_to_guides and mapped_entry == False:\n",
    "            if lookup == \"Rab7b\":\n",
    "                print(\"here3\")\n",
    "            entry = brie_gene_to_guides[lookup]\n",
    "            for ent in entry:\n",
    "                remap.write(\"brie\\t\" + lookup + \"\\t\" + lookup + \"\\t\" +  ent[1] + \"\\t\" + ent[0] + \"\\tUNUNSED\\n\")\n",
    "            mapped_entry = True\n",
    "        if mapped_entry == False:\n",
    "            remap.write(\"unmapped\\t\" + lookup + \"\\t\" + lookup + \"\\tNONE\\tNONE\\tUNUNSED\\n\")\n",
    "            nada += 1\n",
    "    genes_processed[lookup] = True\n",
    "remap.close()"
   ]
  },
  {
   "cell_type": "code",
   "execution_count": 29,
   "id": "f28410d2-48ae-417b-9e7d-ac309b9c2a2f",
   "metadata": {},
   "outputs": [
    {
     "data": {
      "text/plain": [
       "152"
      ]
     },
     "execution_count": 29,
     "metadata": {},
     "output_type": "execute_result"
    }
   ],
   "source": [
    "nada"
   ]
  },
  {
   "cell_type": "code",
   "execution_count": null,
   "id": "2ffe57f6-89a5-4934-8e63-1dea4dcfd03f",
   "metadata": {},
   "outputs": [],
   "source": []
  }
 ],
 "metadata": {
  "kernelspec": {
   "display_name": "Python 3 (ipykernel)",
   "language": "python",
   "name": "python3"
  },
  "language_info": {
   "codemirror_mode": {
    "name": "ipython",
    "version": 3
   },
   "file_extension": ".py",
   "mimetype": "text/x-python",
   "name": "python",
   "nbconvert_exporter": "python",
   "pygments_lexer": "ipython3",
   "version": "3.12.11"
  }
 },
 "nbformat": 4,
 "nbformat_minor": 5
}
