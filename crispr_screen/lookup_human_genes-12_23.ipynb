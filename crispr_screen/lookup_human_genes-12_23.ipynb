{
 "cells": [
  {
   "cell_type": "code",
   "execution_count": 2,
   "id": "c9df7639-aabd-45c6-9a50-c6f8408e57a7",
   "metadata": {},
   "outputs": [],
   "source": [
    "from collections import defaultdict\n"
   ]
  },
  {
   "cell_type": "code",
   "execution_count": 7,
   "id": "05e8d320-662d-44b9-8361-e067d8ebdc3b",
   "metadata": {},
   "outputs": [
    {
     "data": {
      "text/plain": [
       "[['AAGTCTGAAGCACTAAGAAG', 'GAGAAAGTCTGAAGCACTAAGAAGGGGGTT'],\n",
       " ['ATGTATATAATGCCTTAAGG', 'GAAGATGTATATAATGCCTTAAGGTGGTTC'],\n",
       " ['ATTTCTATCCAAATCACTCA', 'TTCTATTTCTATCCAAATCACTCATGGTCA'],\n",
       " ['GGTATTTCTGGAGATAGTGC', 'AATCGGTATTTCTGGAGATAGTGCAGGAGG']]"
      ]
     },
     "execution_count": 7,
     "metadata": {},
     "output_type": "execute_result"
    }
   ],
   "source": [
    "# 11287   Pzp     NM_007376.4     NC_000072.6     128522753       antisense       TTACCTCAATATAAACGACA    GTACTTACCTCAATATAAACGACAGGGAAC  GGG     5       0.707\n",
    "brie = open(\"broadgpp-brunello-library-contents.txt\")\n",
    "brie_gene_to_nm = {}\n",
    "brie_gene_to_guides = defaultdict(list)\n",
    "\n",
    "brie_nm_to_gene = {}\n",
    "for line in brie:\n",
    "    sp = line.strip().split(\"\\t\")\n",
    "    gene = sp[1]\n",
    "    nm = sp[2].split(\".\")[0]\n",
    "    if len(sp) > 7:\n",
    "        guide_list = brie_gene_to_guides[gene]\n",
    "        guide_list.append([sp[6],sp[7]])\n",
    "        brie_gene_to_guides[gene] = guide_list\n",
    "        \n",
    "    if gene in brie_gene_to_nm:\n",
    "        lm = brie_gene_to_nm[gene]\n",
    "        lm.append(nm)\n",
    "        brie_gene_to_nm[gene] = lm\n",
    "        \n",
    "    else:\n",
    "        brie_gene_to_nm[gene] = [nm]\n",
    "\n",
    "    if nm in brie_nm_to_gene:\n",
    "        lm = brie_nm_to_gene[nm]\n",
    "        lm.append(gene)\n",
    "        brie_nm_to_gene[nm] = lm\n",
    "    else:\n",
    "        brie_nm_to_gene[nm] = [gene]\n",
    "        \n",
    "    \n",
    "brie_gene_to_guides[\"AADAC\"]"
   ]
  },
  {
   "cell_type": "code",
   "execution_count": 5,
   "id": "0ea41802-7a13-411e-8450-a44f2aa01e29",
   "metadata": {},
   "outputs": [],
   "source": [
    "lookup_file = open(\"121824_FINAL_crisprscreen_genelist.csv\")\n",
    "header = lookup_file.readline()\n",
    "lookups = []\n",
    "for line in lookup_file:\n",
    "    tk = line.strip().split(\",\")\n",
    "    lookups.append(tk[1])"
   ]
  },
  {
   "cell_type": "code",
   "execution_count": 7,
   "id": "208029e4-9fd2-41ef-a19b-dee4074a9717",
   "metadata": {},
   "outputs": [],
   "source": []
  },
  {
   "cell_type": "code",
   "execution_count": 10,
   "id": "5bd1ba4d-b616-4a52-9269-db93e45103c7",
   "metadata": {},
   "outputs": [],
   "source": [
    "remapping_file = open(\"hgnc-symbol-check.csv\")\n",
    "header = remapping_file.readline()\n",
    "remapper = {}\n",
    "for line in remapping_file:\n",
    "    if \"Approved\" in line:\n",
    "        sp = line.split(\",\")\n",
    "        remapper[sp[0].lstrip(\"\\\"\").rstrip(\"\\\"\")] = sp[2].lstrip(\"\\\"\").rstrip(\"\\\"\")\n",
    "    \n",
    "        "
   ]
  },
  {
   "cell_type": "code",
   "execution_count": null,
   "id": "2f1d6d76-f6d7-4478-8429-66ce3737ccc5",
   "metadata": {},
   "outputs": [],
   "source": []
  },
  {
   "cell_type": "code",
   "execution_count": 13,
   "id": "76d1b490-dce4-4fa2-9447-06b307840dad",
   "metadata": {},
   "outputs": [
    {
     "name": "stdout",
     "output_type": "stream",
     "text": [
      "here\n",
      "here3\n"
     ]
    }
   ],
   "source": [
    "remap = open(\"remapped_human_2024_12_23.txt\",\"w\")\n",
    "remap.write(\"set\\tgene\\tremapped_name\\tguide_name\\tremapped_guide\\tother_candidates\\n\")\n",
    "nada = 0\n",
    "genes_processed = {}\n",
    "\n",
    "for lookup in lookups:\n",
    "    mapped_entry = False\n",
    "    if not lookup in genes_processed:\n",
    "        if lookup == \"ZYX\":\n",
    "            print(\"here\")\n",
    "        if lookup in remapper:\n",
    "            lookup = remapper[lookup]\n",
    "        \n",
    "        if lookup in brie_gene_to_guides:\n",
    "            if lookup == \"ZYX\":\n",
    "                print(\"here3\")\n",
    "            entry = brie_gene_to_guides[lookup]\n",
    "            for ent in entry:\n",
    "                remap.write(\"brie\\t\" + lookup + \"\\t\" + lookup + \"\\t\" +  ent[1] + \"\\t\" + ent[0] + \"\\tUNUNSED\\n\")\n",
    "            mapped_entry = True\n",
    "        \n",
    "        if mapped_entry == False:\n",
    "            remap.write(\"unmapped\\t\" + lookup + \"\\t\" + lookup + \"\\tNONE\\tNONE\\tUNUNSED\\n\")\n",
    "            nada += 1\n",
    "    genes_processed[lookup] = True\n",
    "remap.close()"
   ]
  },
  {
   "cell_type": "code",
   "execution_count": 29,
   "id": "f28410d2-48ae-417b-9e7d-ac309b9c2a2f",
   "metadata": {},
   "outputs": [
    {
     "data": {
      "text/plain": [
       "152"
      ]
     },
     "execution_count": 29,
     "metadata": {},
     "output_type": "execute_result"
    }
   ],
   "source": [
    "nada"
   ]
  },
  {
   "cell_type": "code",
   "execution_count": null,
   "id": "2ffe57f6-89a5-4934-8e63-1dea4dcfd03f",
   "metadata": {},
   "outputs": [],
   "source": []
  }
 ],
 "metadata": {
  "kernelspec": {
   "display_name": "Python 3 (ipykernel)",
   "language": "python",
   "name": "python3"
  },
  "language_info": {
   "codemirror_mode": {
    "name": "ipython",
    "version": 3
   },
   "file_extension": ".py",
   "mimetype": "text/x-python",
   "name": "python",
   "nbconvert_exporter": "python",
   "pygments_lexer": "ipython3",
   "version": "3.12.11"
  }
 },
 "nbformat": 4,
 "nbformat_minor": 5
}
