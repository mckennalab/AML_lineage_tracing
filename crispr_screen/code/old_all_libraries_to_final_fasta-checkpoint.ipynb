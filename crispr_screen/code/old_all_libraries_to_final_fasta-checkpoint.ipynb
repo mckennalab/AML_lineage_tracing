{
 "cells": [
  {
   "cell_type": "code",
   "execution_count": 7,
   "id": "8de36837-d858-4d9f-858a-cbfc38f1c8f8",
   "metadata": {},
   "outputs": [
    {
     "name": "stdout",
     "output_type": "stream",
     "text": [
      "Primers 'CGTACGCTAGTCGATGACGT' and 'TGACTGCTAGTCGATGACAT' have a Levenshtein distance less than 3. 4\n",
      "Primers 'GATCGTACGCTAGTACGTAC' and 'GATCGTACAGCTAGTACGCT' have a Levenshtein distance less than 3. 4\n",
      "Primers 'CGTAGCTACGTAGTCGATGC' and 'CTAGCTAGTACGTCAGATGC' have a Levenshtein distance less than 3. 4\n",
      "Primers 'GATCGTACAGCTAGTACGCT' and 'GCTAGTCAGCTAGTGACGCT' have a Levenshtein distance less than 3. 4\n",
      "Some primers do not meet the minimum Levenshtein distance requirement.\n"
     ]
    }
   ],
   "source": [
    "from itertools import combinations\n",
    "from Levenshtein import distance\n",
    "\n",
    "# List of primer sequences\n",
    "primers = [\n",
    "    \"AGCTGATCGATCGTACGTAG\",\n",
    "    \"TGCATGACTGCTAGCTACGT\",\n",
    "    \"CGTACGCTAGTCGATGACGT\",\n",
    "    \"GCTACGATGCTAGTCAGTAC\",\n",
    "    \"TACGCTAGTGCATGACTCAG\",\n",
    "    \"CTAGTACGATCGTAGCTAGT\",\n",
    "    \"GATCGTACGCTAGTACGTAC\",\n",
    "    \"ACTGATCGTAGCTACGTCGA\",\n",
    "    \"TAGCTACGTGACTAGTCGAT\",\n",
    "    \"GTCGATGACTGATCGTAGCT\",\n",
    "    \"CGTAGCTACGTAGTCGATGC\",\n",
    "    \"TGCATCGTAGCTGATCGTAC\",\n",
    "    \"GACTAGCTGATCGTACGTCA\",\n",
    "    \"CTAGCTAGTACGTCAGATGC\",\n",
    "    \"TGACTGCTAGTCGATGACAT\",\n",
    "    \"GATCGTACAGCTAGTACGCT\",\n",
    "    \"CTAGTGCATCGTACGATGCA\",\n",
    "    \"ACTGATCGATCGTAGCTGCA\",\n",
    "    \"TAGCTGATGCTAGTCGACAT\",\n",
    "    \"GCTAGTCAGCTAGTGACGCT\"\n",
    "]\n",
    "\n",
    "# Check Levenshtein distance between all pairs\n",
    "valid = True\n",
    "for seq1, seq2 in combinations(primers, 2):\n",
    "    if distance(seq1, seq2) < 5:\n",
    "        print(f\"Primers '{seq1}' and '{seq2}' have a Levenshtein distance less than 3.\", distance(seq1, seq2))\n",
    "        valid = False\n",
    "\n",
    "if valid:\n",
    "    print(\"All primers have a minimum Levenshtein distance of 3.\")\n",
    "else:\n",
    "    print(\"Some primers do not meet the minimum Levenshtein distance requirement.\")\n"
   ]
  },
  {
   "cell_type": "code",
   "execution_count": 10,
   "id": "81c9daf4-9248-4148-adeb-57bcb8985fdb",
   "metadata": {},
   "outputs": [],
   "source": [
    "gene_list = open(\"all_new_genes_and_targets.txt\")\n",
    "gene_list_out = open(\"all_new_genes_and_targets_output.txt\",\"w\")\n",
    "\n",
    "for line in gene_list:\n",
    "    sp = line.strip().split(\"\\t\")\n",
    "    if sp[1] == \"\":\n",
    "        gene_list_out.write(sp[0].split()[0] + \"\\t\" + \" \".join(sp[0].split()[1:]) + \"\\t\" + sp[2] + \"\\n\")\n",
    "    else:\n",
    "        gene_list_out.write(line)\n"
   ]
  },
  {
   "cell_type": "code",
   "execution_count": 24,
   "id": "d4a1a1d5-3f95-4153-85a1-57d8525d7122",
   "metadata": {},
   "outputs": [
    {
     "name": "stdout",
     "output_type": "stream",
     "text": [
      "Primer1,TGTTAATTGGCGCCGCACC\n",
      "Primer2,GCCACGCACGCAGGTTAAT\n",
      "Primer3,TGCGCTCTACACGTGCTCA\n",
      "Primer4,TAACCGGCGCATCCAACCT\n",
      "Primer5,ACAGTGACGGCGAGTTGCA\n",
      "Primer6,TGCTAGCAACTCGGCGTGT\n",
      "Primer7,CGCGCTTGAAGTTGCTGCT\n",
      "Primer8,ACAGCAACCTGCCGACACT\n",
      "Primer9,GCGCATCCACGGCTTCATT\n",
      "Primer10,AGTGGTTGCGCGCGTTATG\n",
      "Primer11,ACGCAAGGCGGAGTTCAGA\n",
      "Primer12,TGAACGTGCCGCAGTTCGA\n",
      "Primer13,TGGCACCATTGGCGTCCAA\n",
      "Primer14,TTGGTGTGAACGTGGCGCT\n",
      "Primer15,ATGCCGCATTCAAGACGCC\n",
      "Primer16,TCCTGCGGCGGTTGTAGTT\n",
      "Primer17,ATCCATGCGGTACCGGCAA\n",
      "Primer18,CGACATGCCGTTCCGCATT\n",
      "Primer19,TCTCCGCAAGGACGCCATT\n",
      "Primer20,ACCGCACCGTGTTATGCGA\n",
      "Primer21,AGACCACGCAGGTTCGCAA\n",
      "Primer22,TGGCACGCGTTGTTCACGT\n",
      "Primer23,ATGCAGTGCAGCCGTTCGT\n",
      "Primer24,AATCGCCGACGTCCTCGTT\n",
      "Primer25,GCAACGCGACTGCGTTGTT\n",
      "Primer26,AACGATGGCTGGCCGAACT\n",
      "Primer27,TTCCGACCGCTGCAAGGTT\n",
      "Primer28,AGTTGCACTCCGCTACGCT\n",
      "Primer29,TCCGCGCATCATTGTGCTG\n",
      "Primer30,ATGCGCGCAACCTGGAACA\n",
      "Primer31,ATTCGCCGTAGCAACGCCA\n",
      "Primer32,ATTGCAAGCCGCGACACTG\n",
      "Primer33,ACCAATCGGTTCGTCGCGA\n",
      "Primer34,AAGTGTGAGCGAGGCGACA\n",
      "Primer35,AGTGCAGTCGGCTTCACGA\n",
      "Primer36,TCCAGTGGCAAGCGCCAAT\n",
      "Primer37,GCCGAATGCAACGTGCCTT\n",
      "Primer38,AACATTCCGCGTACGGCCA\n",
      "Primer39,AAGCCACGAGTGGTTGCCA\n",
      "Primer40,TGACCAGCGGCTGCGTTAA\n",
      "59.564001651122965\n"
     ]
    }
   ],
   "source": [
    "import random\n",
    "from Bio.SeqUtils import MeltingTemp as mt\n",
    "from Levenshtein import distance\n",
    "\n",
    "# Function to generate a random 20 base pair sequence with balanced GC content\n",
    "def generate_primer():\n",
    "    bases = ['A', 'T', 'C', 'G']\n",
    "    primer = \"\"\n",
    "    while True:\n",
    "        while len(primer) < 19:\n",
    "            base = random.choice(bases)\n",
    "            if len(primer) < 2 or (primer[-1] != base or primer[-2] != base):\n",
    "                primer += base\n",
    "        gc_cont = float(sum([1 if x == 'G' or x == 'C' else 0 for x in primer])) / float(len(primer))\n",
    "        if gc_cont > 0.4 and gc_cont < 0.6:\n",
    "            return primer\n",
    "        else:\n",
    "            primer = \"\"\n",
    "\n",
    "# Function to check if the primer meets the Tm requirement\n",
    "def is_valid_tm(primer, target_tm=58, tolerance=2):\n",
    "    primer_tm = mt.Tm_NN(primer)\n",
    "    return target_tm - tolerance <= primer_tm <= target_tm + tolerance\n",
    "\n",
    "# Generate 40 primers with minimum Levenshtein distance of 3\n",
    "primers = []\n",
    "while len(primers) < 40:\n",
    "    new_primer = generate_primer()\n",
    "    if is_valid_tm(new_primer):\n",
    "        if all(distance(new_primer, existing) > 4 for existing in primers):\n",
    "            primers.append(new_primer)\n",
    "\n",
    "# Print the generated primers\n",
    "for i, primer in enumerate(primers, 1):\n",
    "    print(f\"Primer{i},{primer}\")\n",
    "\n",
    "print(mt.Tm_NN(\"GATCCGAGCGGTGGCAGGAC\"))"
   ]
  },
  {
   "cell_type": "code",
   "execution_count": 45,
   "id": "a7e14641-fa37-4894-9efb-331eac0a8e3a",
   "metadata": {},
   "outputs": [],
   "source": [
    "# analyze at https://www.idtdna.com/calc/analyzer/home/batch\n",
    "target_set_pairs = {\n",
    "    \"AML\"  : [\"TGTTAATTGGCGCCGCACC\",\"GCCACGCACGCAGGTTAAT\"],    \n",
    "    \"bmp_library\": [\"TGCGCTCTACACGTGCTCA\",\"TAACCGGCGCATCCAACCT\"],    \n",
    "    \"coad_list\": [\"ACAGTGACGGCGAGTTGCA\",\"TGCTAGCAACTCGGCGTGT\"],    \n",
    "    \"embryo_factors\": [\"CGCGCTTGAAGTTGCTGCT\",\"ACAGCAACCTGCCGACACT\"],    \n",
    "    \"notch_library\": [\"GCGCATCCACGGCTTCATT\",\"AGTGGTTGCGCGCGTTATG\"],    \n",
    "    \"pdac_list\": [\"TGGCACCATTGGCGTCCAA\",\"TTGGTGTGAACGTGGCGCT\"],  \n",
    "    \"stem_cell\": [\"ATGCCGCATTCAAGACGCC\",\"TCCTGCGGCGGTTGTAGTT\"],    \n",
    "    \"wnt_library\": [\"ATCCATGCGGTACCGGCAA\",\"CGACATGCCGTTCCGCATT\"],\n",
    "    \"control\" : [\"TCTCCGCAAGGACGCCATT\",\"ACCGCACCGTGTTATGCGA\"]\n",
    "}\n",
    "\n",
    "human_mouse_pairs = {\n",
    "    \"human\": [\"TGACCAGCGGCTGCGTTAA\",\"AAGCCACGAGTGGTTGCCA\"],\n",
    "    \"mouse\": [\"AACATTCCGCGTACGGCCA\",\"GCCGAATGCAACGTGCCTT\"],\n",
    "}"
   ]
  },
  {
   "cell_type": "code",
   "execution_count": 28,
   "id": "10719cac-8a3e-43e3-9cf5-b95cf015d082",
   "metadata": {},
   "outputs": [
    {
     "name": "stdout",
     "output_type": "stream",
     "text": [
      "Forward occurrences: [2, 19]\n",
      "Reverse occurrences: [3, 20]\n"
     ]
    }
   ],
   "source": [
    "def find_sequence_occurrences(sequence, target):\n",
    "    \"\"\"\n",
    "    Find forward and reverse occurrences of a nucleotide sequence in a string.\n",
    "\n",
    "    Parameters:\n",
    "    sequence (str): The nucleotide sequence to search within.\n",
    "    target (str): The nucleotide sequence to search for.\n",
    "\n",
    "    Returns:\n",
    "    dict: A dictionary with keys 'forward' and 'reverse', each containing a list of start indices where the target occurs.\n",
    "    \"\"\"\n",
    "    forward_indices = []\n",
    "    reverse_target = target[::-1].translate(str.maketrans(\"ATCG\", \"TAGC\"))  # Reverse complement\n",
    "    reverse_indices = []\n",
    "\n",
    "    # Find forward occurrences\n",
    "    index = sequence.find(target)\n",
    "    while index != -1:\n",
    "        forward_indices.append(index)\n",
    "        index = sequence.find(target, index + 1)\n",
    "\n",
    "    # Find reverse occurrences\n",
    "    index = sequence.find(reverse_target)\n",
    "    while index != -1:\n",
    "        reverse_indices.append(index)\n",
    "        index = sequence.find(reverse_target, index + 1)\n",
    "\n",
    "    return {\n",
    "        'forward': forward_indices,\n",
    "        'reverse': reverse_indices\n",
    "    }\n",
    "\n",
    "# Example usage\n",
    "sequence = \"ATCGTACGATCGTAGCTAGCGTACGATCGTAGCTAGCTA\"\n",
    "target = \"CGTAC\"\n",
    "result = find_sequence_occurrences(sequence, target)\n",
    "print(\"Forward occurrences:\", result['forward'])\n",
    "print(\"Reverse occurrences:\", result['reverse'])\n"
   ]
  },
  {
   "cell_type": "code",
   "execution_count": 40,
   "id": "8dcaca1c-308c-4b64-9ae5-dd80443317d0",
   "metadata": {},
   "outputs": [
    {
     "name": "stdout",
     "output_type": "stream",
     "text": [
      "1\n",
      "0\n"
     ]
    }
   ],
   "source": [
    "print(len(find_sequence_occurrences(\"CGTCTCTCACCGAAGGTT\",\"CGTCTC\")['forward']))\n",
    "print(len(find_sequence_occurrences(\"CGTATCTCACCGAAGGTT\",\"CGTCTC\")['forward']))\n"
   ]
  },
  {
   "cell_type": "code",
   "execution_count": 48,
   "id": "230f4fa4-783a-440b-b06a-90e84d2d3bed",
   "metadata": {},
   "outputs": [
    {
     "name": "stdout",
     "output_type": "stream",
     "text": [
      "dropping TCTCCGCAAGGACGCCATTAACATTCCGCGTACGGCCACGTCTCTCACCGAACCTCGTCTCATGTACGAAGTTTAGAGACGGCCGAATGCAACGTGCCTTACCGCACCGTGTTATGCGA\n",
      "dropping TCTCCGCAAGGACGCCATTAACATTCCGCGTACGGCCACGTCTCTCACCGAACGTTATAGCTTCGTCTCTGTTTAGAGACGGCCGAATGCAACGTGCCTTACCGCACCGTGTTATGCGA\n",
      "dropping TCTCCGCAAGGACGCCATTAACATTCCGCGTACGGCCACGTCTCTCACCGAATGAGCGTCTCTCGATCGCGTTTAGAGACGGCCGAATGCAACGTGCCTTACCGCACCGTGTTATGCGA\n",
      "dropping TCTCCGCAAGGACGCCATTAACATTCCGCGTACGGCCACGTCTCTCACCGACCGTCTCTATTATACGGCAGTTTAGAGACGGCCGAATGCAACGTGCCTTACCGCACCGTGTTATGCGA\n",
      "dropping TCTCCGCAAGGACGCCATTTGACCAGCGGCTGCGTTAACGTCTCTCACCGCCTTGGCGAGACGGAGGTACGTTTAGAGACGAAGCCACGAGTGGTTGCCAACCGCACCGTGTTATGCGA\n",
      "dropping TCTCCGCAAGGACGCCATTTGACCAGCGGCTGCGTTAACGTCTCTCACCGCTGCACTGTGGAGACGCCCGGTTTAGAGACGAAGCCACGAGTGGTTGCCAACCGCACCGTGTTATGCGA\n"
     ]
    }
   ],
   "source": [
    "guide_file = open(\"2024_11_03_total_guide_table.txt\")\n",
    "header = guide_file.readline()\n",
    "bsmbI_f_plus_g = \"CGTCTCTCACCG\"\n",
    "bsmbI_r =        \"GTTTAGAGACG\"\n",
    "output_guide_file = open(\"2024_11_02_total_guide_table_sequences.txt\",\"w\")\n",
    "output_guide_fasta = open(\"2024_11_02_total_guide_table_sequences.fasta\",\"w\")\n",
    "for line in guide_file:\n",
    "    sp = line.strip().split(\"\\t\")\n",
    "    target_set_primers = target_set_pairs[sp[2]]\n",
    "    human_mouse_primers = human_mouse_pairs[sp[3]]\n",
    "    \n",
    "    output_seq = target_set_primers[0] + human_mouse_primers[0] + bsmbI_f_plus_g + sp[1] + bsmbI_r + human_mouse_primers[1] + target_set_primers[1]\n",
    "    has_bsmbI = find_sequence_occurrences(sp[1],\"CGTCTC\")\n",
    "    if len(has_bsmbI['forward']) == 0 and len(has_bsmbI['reverse']) == 0:\n",
    "        output_sed_desc = \"_\".join(line.strip().split(\"\\t\")) + \"_\" + target_set_primers[0] + \"_\" + human_mouse_primers[0] + \"_\" + bsmbI_f_plus_g + \"_\" + sp[1] + \"_\" + bsmbI_f_plus_g + \"_\" + human_mouse_primers[1] + \"_\" + target_set_primers[1]\n",
    "        output_guide_file.write(line.strip() + output_seq + \"\\n\")\n",
    "        output_guide_fasta.write(\">\" + output_sed_desc + \"\\n\" + output_seq + \"\\n\")\n",
    "    else:\n",
    "        print(\"dropping\",output_seq)\n",
    "    \n",
    "output_guide_file.close()\n",
    "output_guide_fasta.close()"
   ]
  },
  {
   "cell_type": "code",
   "execution_count": null,
   "id": "5d85310f-27b5-4a96-9fc9-7ca3c75ec9cb",
   "metadata": {},
   "outputs": [],
   "source": [
    "TODO:\n",
    "weird sequences \"   5 ACAGTGACGGCGAGTTGCAAACATTCCGCGTACGGCCACGTCTCTCACCGNACGTCTCTCACCGGCCGAATGCAACGTGCCTTTGCTAGCAACTCGGCGTGT\"\n",
    "\n",
    "control guides"
   ]
  }
 ],
 "metadata": {
  "kernelspec": {
   "display_name": "Python 3 (ipykernel)",
   "language": "python",
   "name": "python3"
  },
  "language_info": {
   "codemirror_mode": {
    "name": "ipython",
    "version": 3
   },
   "file_extension": ".py",
   "mimetype": "text/x-python",
   "name": "python",
   "nbconvert_exporter": "python",
   "pygments_lexer": "ipython3",
   "version": "3.12.11"
  }
 },
 "nbformat": 4,
 "nbformat_minor": 5
}
